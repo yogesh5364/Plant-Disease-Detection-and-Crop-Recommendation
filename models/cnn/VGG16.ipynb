{
 "cells": [
  {
   "cell_type": "code",
   "execution_count": 1,
   "metadata": {
    "colab": {
     "base_uri": "https://localhost:8080/"
    },
    "id": "LTaNPkUd-G7B",
    "outputId": "5364aa12-39a8-40d7-c85c-ed25ba4c6f4a"
   },
   "outputs": [
    {
     "name": "stdout",
     "output_type": "stream",
     "text": [
      "Mounted at /content/drive\n"
     ]
    }
   ],
   "source": [
    "from google.colab import drive\n",
    "drive.mount(\"/content/drive\", force_remount=True)\n",
    "\n",
    "!unzip -q '/content/drive/MyDrive/mp_dataset/new-plant-diseases-dataset.zip' -d '/content'\n",
    "# drive.flush_and_unmount()\n"
   ]
  },
  {
   "cell_type": "code",
   "execution_count": 2,
   "metadata": {
    "id": "1_LE3CGDLXkd"
   },
   "outputs": [],
   "source": [
    "data_dir = '/content/New Plant Diseases Dataset(Augmented)/New Plant Diseases Dataset(Augmented)'\n",
    "train_dir = data_dir + '/train'\n",
    "valid_dir = data_dir + '/valid'\n",
    "test_dir = '/content/drive/MyDrive/mp_dataset/datastore/test'"
   ]
  },
  {
   "cell_type": "code",
   "execution_count": 15,
   "metadata": {
    "id": "Y0NS89jT-moG"
   },
   "outputs": [],
   "source": [
    "from tensorflow import keras\n",
    "from keras.preprocessing.image import ImageDataGenerator\n",
    "import os\n",
    "import numpy as np\n",
    "import pandas as pd\n",
    "import matplotlib.pyplot as plt\n",
    "import seaborn as sns "
   ]
  },
  {
   "cell_type": "code",
   "execution_count": 9,
   "metadata": {
    "colab": {
     "base_uri": "https://localhost:8080/"
    },
    "id": "REUAlYTe-_tU",
    "outputId": "b4c1ceee-53a8-47b2-c7ce-648ee7ee3f94"
   },
   "outputs": [
    {
     "name": "stdout",
     "output_type": "stream",
     "text": [
      "Found 70295 images belonging to 38 classes.\n",
      "Found 17572 images belonging to 38 classes.\n"
     ]
    }
   ],
   "source": [
    "# Creating datasets from folder name as labels\n",
    "\n",
    "train_datagen = ImageDataGenerator(rescale=1./255,\n",
    "                                   shear_range=0.2,\n",
    "                                   zoom_range=0.2,\n",
    "                                   width_shift_range=0.2,\n",
    "                                   height_shift_range=0.2,\n",
    "                                   fill_mode='nearest')\n",
    "\n",
    "valid_datagen = ImageDataGenerator(rescale=1./255)\n",
    "\n",
    "batch_size = 32\n",
    "\n",
    "train_set = train_datagen.flow_from_directory(train_dir,\n",
    "                                              target_size=(224, 224),\n",
    "                                              batch_size=batch_size,\n",
    "                                              class_mode='categorical')\n",
    "\n",
    "valid_set = valid_datagen.flow_from_directory(valid_dir,\n",
    "                                              target_size=(224, 224),\n",
    "                                              batch_size=batch_size,\n",
    "                                              class_mode='categorical')"
   ]
  },
  {
   "cell_type": "code",
   "execution_count": 10,
   "metadata": {
    "id": "nsN-X5Zr_0wo"
   },
   "outputs": [],
   "source": [
    "base_model = keras.applications.VGG16(\n",
    "    weights=\"imagenet\",  # load weights pretrained on the ImageNet\n",
    "    input_shape=(224, 224, 3),\n",
    "    include_top=False  # do not include the ImageNet classifier at the top\n",
    ")  "
   ]
  },
  {
   "cell_type": "code",
   "execution_count": 11,
   "metadata": {
    "colab": {
     "base_uri": "https://localhost:8080/"
    },
    "id": "gAo-G8tS_6Mp",
    "outputId": "ac3ff42c-132c-4e95-cec2-a35022131271"
   },
   "outputs": [
    {
     "name": "stdout",
     "output_type": "stream",
     "text": [
      "Model: \"vgg16\"\n",
      "_________________________________________________________________\n",
      " Layer (type)                Output Shape              Param #   \n",
      "=================================================================\n",
      " input_3 (InputLayer)        [(None, 224, 224, 3)]     0         \n",
      "                                                                 \n",
      " block1_conv1 (Conv2D)       (None, 224, 224, 64)      1792      \n",
      "                                                                 \n",
      " block1_conv2 (Conv2D)       (None, 224, 224, 64)      36928     \n",
      "                                                                 \n",
      " block1_pool (MaxPooling2D)  (None, 112, 112, 64)      0         \n",
      "                                                                 \n",
      " block2_conv1 (Conv2D)       (None, 112, 112, 128)     73856     \n",
      "                                                                 \n",
      " block2_conv2 (Conv2D)       (None, 112, 112, 128)     147584    \n",
      "                                                                 \n",
      " block2_pool (MaxPooling2D)  (None, 56, 56, 128)       0         \n",
      "                                                                 \n",
      " block3_conv1 (Conv2D)       (None, 56, 56, 256)       295168    \n",
      "                                                                 \n",
      " block3_conv2 (Conv2D)       (None, 56, 56, 256)       590080    \n",
      "                                                                 \n",
      " block3_conv3 (Conv2D)       (None, 56, 56, 256)       590080    \n",
      "                                                                 \n",
      " block3_pool (MaxPooling2D)  (None, 28, 28, 256)       0         \n",
      "                                                                 \n",
      " block4_conv1 (Conv2D)       (None, 28, 28, 512)       1180160   \n",
      "                                                                 \n",
      " block4_conv2 (Conv2D)       (None, 28, 28, 512)       2359808   \n",
      "                                                                 \n",
      " block4_conv3 (Conv2D)       (None, 28, 28, 512)       2359808   \n",
      "                                                                 \n",
      " block4_pool (MaxPooling2D)  (None, 14, 14, 512)       0         \n",
      "                                                                 \n",
      " block5_conv1 (Conv2D)       (None, 14, 14, 512)       2359808   \n",
      "                                                                 \n",
      " block5_conv2 (Conv2D)       (None, 14, 14, 512)       2359808   \n",
      "                                                                 \n",
      " block5_conv3 (Conv2D)       (None, 14, 14, 512)       2359808   \n",
      "                                                                 \n",
      " block5_pool (MaxPooling2D)  (None, 7, 7, 512)         0         \n",
      "                                                                 \n",
      "=================================================================\n",
      "Total params: 14,714,688\n",
      "Trainable params: 14,714,688\n",
      "Non-trainable params: 0\n",
      "_________________________________________________________________\n"
     ]
    }
   ],
   "source": [
    "base_model.summary()"
   ]
  },
  {
   "cell_type": "code",
   "execution_count": 12,
   "metadata": {
    "colab": {
     "base_uri": "https://localhost:8080/"
    },
    "id": "9z3Ni7nyJBeb",
    "outputId": "8a6dfe30-c122-4809-90bb-0236ecc0829c"
   },
   "outputs": [
    {
     "name": "stdout",
     "output_type": "stream",
     "text": [
      "Model: \"pretrained_vgg16\"\n",
      "_________________________________________________________________\n",
      " Layer (type)                Output Shape              Param #   \n",
      "=================================================================\n",
      " input_4 (InputLayer)        [(None, 224, 224, 3)]     0         \n",
      "                                                                 \n",
      " vgg16 (Functional)          (None, 7, 7, 512)         14714688  \n",
      "                                                                 \n",
      " global_average_pooling2d_1   (None, 512)              0         \n",
      " (GlobalAveragePooling2D)                                        \n",
      "                                                                 \n",
      " dropout_1 (Dropout)         (None, 512)               0         \n",
      "                                                                 \n",
      " dense_1 (Dense)             (None, 38)                19494     \n",
      "                                                                 \n",
      "=================================================================\n",
      "Total params: 14,734,182\n",
      "Trainable params: 19,494\n",
      "Non-trainable params: 14,714,688\n",
      "_________________________________________________________________\n"
     ]
    }
   ],
   "source": [
    "# Freeze the base_model\n",
    "base_model.trainable = False\n",
    "\n",
    "# Create new model on top\n",
    "inputs = keras.Input(shape=(224, 224, 3))\n",
    "\n",
    "# The base model contains batchnorm layers. We want to keep them in inference mode\n",
    "# when we unfreeze the base model for fine-tuning, so we make sure that the\n",
    "# base_model is running in inference mode here.\n",
    "x = base_model(inputs, training=False)\n",
    "x = keras.layers.GlobalAveragePooling2D()(x)\n",
    "x = keras.layers.Dropout(0.2)(x)  # Regularize with dropout\n",
    "outputs = keras.layers.Dense(38)(x)\n",
    "\n",
    "vgg16_model = keras.Model(inputs, outputs, name='pretrained_vgg16')\n",
    "vgg16_model.summary()"
   ]
  },
  {
   "cell_type": "code",
   "execution_count": 13,
   "metadata": {
    "colab": {
     "base_uri": "https://localhost:8080/"
    },
    "id": "SMD5no0OJD0E",
    "outputId": "f106fb09-224a-451f-d23a-6f143c333b3e"
   },
   "outputs": [
    {
     "name": "stdout",
     "output_type": "stream",
     "text": [
      "Epoch 1/30\n",
      "100/100 [==============================] - 73s 685ms/step - loss: 3.5786 - categorical_accuracy: 0.0825 - val_loss: 3.2914 - val_categorical_accuracy: 0.2245\n",
      "Epoch 2/30\n",
      "100/100 [==============================] - 68s 675ms/step - loss: 3.2246 - categorical_accuracy: 0.2181 - val_loss: 2.9909 - val_categorical_accuracy: 0.4000\n",
      "Epoch 3/30\n",
      "100/100 [==============================] - 67s 668ms/step - loss: 2.9660 - categorical_accuracy: 0.3125 - val_loss: 2.7121 - val_categorical_accuracy: 0.5104\n",
      "Epoch 4/30\n",
      "100/100 [==============================] - 67s 669ms/step - loss: 2.7175 - categorical_accuracy: 0.4087 - val_loss: 2.5144 - val_categorical_accuracy: 0.5271\n",
      "Epoch 5/30\n",
      "100/100 [==============================] - 67s 666ms/step - loss: 2.5425 - categorical_accuracy: 0.4678 - val_loss: 2.2972 - val_categorical_accuracy: 0.5995\n",
      "Epoch 6/30\n",
      "100/100 [==============================] - 66s 662ms/step - loss: 2.3642 - categorical_accuracy: 0.5153 - val_loss: 2.1584 - val_categorical_accuracy: 0.6536\n",
      "Epoch 7/30\n",
      "100/100 [==============================] - 68s 679ms/step - loss: 2.2658 - categorical_accuracy: 0.5431 - val_loss: 2.0521 - val_categorical_accuracy: 0.6516\n",
      "Epoch 8/30\n",
      "100/100 [==============================] - 66s 659ms/step - loss: 2.1357 - categorical_accuracy: 0.5797 - val_loss: 1.9438 - val_categorical_accuracy: 0.6786\n",
      "Epoch 9/30\n",
      "100/100 [==============================] - 66s 655ms/step - loss: 2.0085 - categorical_accuracy: 0.5931 - val_loss: 1.8256 - val_categorical_accuracy: 0.6786\n",
      "Epoch 10/30\n",
      "100/100 [==============================] - 66s 659ms/step - loss: 1.9445 - categorical_accuracy: 0.6172 - val_loss: 1.7159 - val_categorical_accuracy: 0.7104\n",
      "Epoch 11/30\n",
      "100/100 [==============================] - 65s 654ms/step - loss: 1.8680 - categorical_accuracy: 0.6162 - val_loss: 1.6460 - val_categorical_accuracy: 0.6927\n",
      "Epoch 12/30\n",
      "100/100 [==============================] - 66s 656ms/step - loss: 1.7782 - categorical_accuracy: 0.6272 - val_loss: 1.5909 - val_categorical_accuracy: 0.7380\n",
      "Epoch 13/30\n",
      "100/100 [==============================] - 68s 684ms/step - loss: 1.7507 - categorical_accuracy: 0.6368 - val_loss: 1.5236 - val_categorical_accuracy: 0.7255\n",
      "Epoch 14/30\n",
      "100/100 [==============================] - 66s 660ms/step - loss: 1.6754 - categorical_accuracy: 0.6472 - val_loss: 1.4472 - val_categorical_accuracy: 0.7260\n",
      "Epoch 15/30\n",
      "100/100 [==============================] - 66s 655ms/step - loss: 1.6261 - categorical_accuracy: 0.6541 - val_loss: 1.4097 - val_categorical_accuracy: 0.7344\n",
      "Epoch 16/30\n",
      "100/100 [==============================] - 66s 658ms/step - loss: 1.5433 - categorical_accuracy: 0.6700 - val_loss: 1.3642 - val_categorical_accuracy: 0.7484\n",
      "Epoch 17/30\n",
      "100/100 [==============================] - 66s 658ms/step - loss: 1.5179 - categorical_accuracy: 0.6778 - val_loss: 1.3272 - val_categorical_accuracy: 0.7448\n",
      "Epoch 18/30\n",
      "100/100 [==============================] - 66s 659ms/step - loss: 1.4781 - categorical_accuracy: 0.6806 - val_loss: 1.2870 - val_categorical_accuracy: 0.7411\n",
      "Epoch 19/30\n",
      "100/100 [==============================] - 66s 657ms/step - loss: 1.4743 - categorical_accuracy: 0.6634 - val_loss: 1.2076 - val_categorical_accuracy: 0.7682\n",
      "Epoch 20/30\n",
      "100/100 [==============================] - 65s 654ms/step - loss: 1.4060 - categorical_accuracy: 0.6994 - val_loss: 1.2323 - val_categorical_accuracy: 0.7484\n",
      "Epoch 21/30\n",
      "100/100 [==============================] - 66s 655ms/step - loss: 1.3884 - categorical_accuracy: 0.7034 - val_loss: 1.1792 - val_categorical_accuracy: 0.7646\n",
      "Epoch 22/30\n",
      "100/100 [==============================] - 65s 655ms/step - loss: 1.3553 - categorical_accuracy: 0.6913 - val_loss: 1.1557 - val_categorical_accuracy: 0.7469\n",
      "Epoch 23/30\n",
      "100/100 [==============================] - 66s 660ms/step - loss: 1.3568 - categorical_accuracy: 0.6828 - val_loss: 1.1535 - val_categorical_accuracy: 0.7510\n",
      "Epoch 24/30\n",
      "100/100 [==============================] - 67s 667ms/step - loss: 1.3115 - categorical_accuracy: 0.6947 - val_loss: 1.1284 - val_categorical_accuracy: 0.7516\n",
      "Epoch 25/30\n",
      "100/100 [==============================] - 66s 659ms/step - loss: 1.2997 - categorical_accuracy: 0.6894 - val_loss: 1.1030 - val_categorical_accuracy: 0.7516\n",
      "Epoch 26/30\n",
      "100/100 [==============================] - 66s 656ms/step - loss: 1.2601 - categorical_accuracy: 0.7056 - val_loss: 1.0886 - val_categorical_accuracy: 0.7505\n",
      "Epoch 27/30\n",
      "100/100 [==============================] - 66s 663ms/step - loss: 1.2417 - categorical_accuracy: 0.7066 - val_loss: 1.0588 - val_categorical_accuracy: 0.7630\n",
      "Epoch 28/30\n",
      "100/100 [==============================] - 66s 664ms/step - loss: 1.2327 - categorical_accuracy: 0.7009 - val_loss: 1.0421 - val_categorical_accuracy: 0.7818\n",
      "Epoch 29/30\n",
      "100/100 [==============================] - 66s 658ms/step - loss: 1.1846 - categorical_accuracy: 0.7138 - val_loss: 1.0143 - val_categorical_accuracy: 0.7812\n",
      "Epoch 30/30\n",
      "100/100 [==============================] - 66s 661ms/step - loss: 1.1614 - categorical_accuracy: 0.7216 - val_loss: 0.9867 - val_categorical_accuracy: 0.7719\n"
     ]
    }
   ],
   "source": [
    "vgg16_model.compile(optimizer=keras.optimizers.Adam(),\n",
    "              loss=keras.losses.CategoricalCrossentropy(from_logits=True),\n",
    "              metrics=[keras.metrics.CategoricalAccuracy()]\n",
    ")\n",
    "\n",
    "epochs = 30\n",
    "\n",
    "vgg16_history = vgg16_model.fit(train_set,\n",
    "                                steps_per_epoch=100,  \n",
    "                                validation_data=valid_set,\n",
    "                                epochs=epochs,\n",
    "                                validation_steps=60,  \n",
    ")"
   ]
  },
  {
   "cell_type": "code",
   "execution_count": 14,
   "metadata": {
    "colab": {
     "base_uri": "https://localhost:8080/"
    },
    "id": "bidlRxgFd9qA",
    "outputId": "78c23299-8348-4620-fffc-3e1ffedfa173"
   },
   "outputs": [
    {
     "name": "stdout",
     "output_type": "stream",
     "text": [
      "550/550 [==============================] - 162s 294ms/step - loss: 0.9898 - categorical_accuracy: 0.7795\n",
      "val loss: 0.9898070096969604\n",
      "val acc: 0.7794787287712097\n"
     ]
    }
   ],
   "source": [
    "# Evaluate the model on the validation data\n",
    "\n",
    "results = vgg16_model.evaluate(valid_set)\n",
    "print('val loss:', results[0])\n",
    "print('val acc:', results[1])"
   ]
  },
  {
   "cell_type": "code",
   "execution_count": 16,
   "metadata": {
    "id": "R4xEV4L4Wcu6"
   },
   "outputs": [],
   "source": [
    "import matplotlib.pyplot as plt\n",
    "import seaborn as sns\n",
    "\n",
    "# Set parameters for plotting\n",
    "plt.rc('figure', figsize=(8, 4))\n",
    "sns.set(font_scale=1)"
   ]
  },
  {
   "cell_type": "code",
   "execution_count": 17,
   "metadata": {
    "colab": {
     "base_uri": "https://localhost:8080/",
     "height": 318
    },
    "id": "8DdZru2CWipB",
    "outputId": "ab83ae15-b26a-48fe-cad3-e54704af399f"
   },
   "outputs": [
    {
     "data": {
      "text/plain": [
       "<matplotlib.legend.Legend at 0x7fafc70416d0>"
      ]
     },
     "execution_count": 17,
     "metadata": {},
     "output_type": "execute_result"
    },
    {
     "data": {
      "image/png": "[encoded data removed]",
      "text/plain": [
       "<Figure size 576x288 with 1 Axes>"
      ]
     },
     "metadata": {},
     "output_type": "display_data"
    }
   ],
   "source": [
    "train_acc = vgg16_history.history['categorical_accuracy']\n",
    "val_acc = vgg16_history.history['val_categorical_accuracy']\n",
    "\n",
    "epochs_list = list(range(1, epochs + 1))\n",
    "\n",
    "plt.plot(epochs_list, train_acc, label='train acc')\n",
    "plt.plot(epochs_list, val_acc, label='val acc')\n",
    "plt.title(\"VGG-16's Accuracy\")\n",
    "plt.xlabel('Epochs')\n",
    "plt.ylabel('Accuracy')\n",
    "plt.legend(loc='best')"
   ]
  },
  {
   "cell_type": "code",
   "execution_count": 18,
   "metadata": {
    "colab": {
     "base_uri": "https://localhost:8080/",
     "height": 318
    },
    "id": "BOFqfrHWWnkA",
    "outputId": "55f43374-871f-487c-b625-a2f8476a475f"
   },
   "outputs": [
    {
     "data": {
      "text/plain": [
       "<matplotlib.legend.Legend at 0x7fafc877cb90>"
      ]
     },
     "execution_count": 18,
     "metadata": {},
     "output_type": "execute_result"
    },
    {
     "data": {
      "image/png": "[encoded data removed]",
      "text/plain": [
       "<Figure size 576x288 with 1 Axes>"
      ]
     },
     "metadata": {},
     "output_type": "display_data"
    }
   ],
   "source": [
    "train_loss = vgg16_history.history['loss']\n",
    "val_loss = vgg16_history.history['val_loss']\n",
    "\n",
    "plt.plot(epochs_list, train_loss, label='train loss')\n",
    "plt.plot(epochs_list, val_loss, label='val loss')\n",
    "plt.title(\"VGG-16's Loss\")\n",
    "plt.xlabel('Epochs')\n",
    "plt.ylabel('Loss')\n",
    "plt.legend(loc='best')"
   ]
  },
  {
   "cell_type": "code",
   "execution_count": 19,
   "metadata": {
    "colab": {
     "base_uri": "https://localhost:8080/"
    },
    "id": "2etL-_PIWtLJ",
    "outputId": "17ae57dd-5cda-4103-f0e4-66c2fddd1e79"
   },
   "outputs": [
    {
     "name": "stdout",
     "output_type": "stream",
     "text": [
      "INFO:tensorflow:Assets written to: vgg16/assets\n"
     ]
    }
   ],
   "source": [
    "vgg16_model.save('vgg16')"
   ]
  },
  {
   "cell_type": "code",
   "execution_count": 21,
   "metadata": {
    "colab": {
     "base_uri": "https://localhost:8080/",
     "height": 34
    },
    "id": "nTLcByHNXAfJ",
    "outputId": "31705799-14a7-4ed6-8533-af1ba617c029"
   },
   "outputs": [
    {
     "data": {
      "application/javascript": [
       "\n",
       "    async function download(id, filename, size) {\n",
       "      if (!google.colab.kernel.accessAllowed) {\n",
       "        return;\n",
       "      }\n",
       "      const div = document.createElement('div');\n",
       "      const label = document.createElement('label');\n",
       "      label.textContent = `Downloading \"${filename}\": `;\n",
       "      div.appendChild(label);\n",
       "      const progress = document.createElement('progress');\n",
       "      progress.max = size;\n",
       "      div.appendChild(progress);\n",
       "      document.body.appendChild(div);\n",
       "\n",
       "      const buffers = [];\n",
       "      let downloaded = 0;\n",
       "\n",
       "      const channel = await google.colab.kernel.comms.open(id);\n",
       "      // Send a message to notify the kernel that we're ready.\n",
       "      channel.send({})\n",
       "\n",
       "      for await (const message of channel.messages) {\n",
       "        // Send a message to notify the kernel that we're ready.\n",
       "        channel.send({})\n",
       "        if (message.buffers) {\n",
       "          for (const buffer of message.buffers) {\n",
       "            buffers.push(buffer);\n",
       "            downloaded += buffer.byteLength;\n",
       "            progress.value = downloaded;\n",
       "          }\n",
       "        }\n",
       "      }\n",
       "      const blob = new Blob(buffers, {type: 'application/binary'});\n",
       "      const a = document.createElement('a');\n",
       "      a.href = window.URL.createObjectURL(blob);\n",
       "      a.download = filename;\n",
       "      div.appendChild(a);\n",
       "      a.click();\n",
       "      div.remove();\n",
       "    }\n",
       "  "
      ],
      "text/plain": [
       "<IPython.core.display.Javascript object>"
      ]
     },
     "metadata": {},
     "output_type": "display_data"
    },
    {
     "data": {
      "application/javascript": [
       "download(\"download_e3199618-5e07-4634-ab9e-16e4724471fe\", \"vgg16.zip\", 54945894)"
      ],
      "text/plain": [
       "<IPython.core.display.Javascript object>"
      ]
     },
     "metadata": {},
     "output_type": "display_data"
    }
   ],
   "source": [
    "# !zip -r /content/vgg16.zip /content/vgg16\n",
    "from google.colab import files\n",
    "files.download(\"/content/vgg16.zip\")"
   ]
  },
  {
   "cell_type": "code",
   "execution_count": null,
   "metadata": {
    "id": "5ZCP6wTFY3M4"
   },
   "outputs": [],
   "source": []
  }
 ],
 "metadata": {
  "accelerator": "GPU",
  "colab": {
   "name": "VGG16.ipynb",
   "provenance": []
  },
  "kernelspec": {
   "display_name": "Python 3 (ipykernel)",
   "language": "python",
   "name": "python3"
  },
  "language_info": {
   "codemirror_mode": {
    "name": "ipython",
    "version": 3
   },
   "file_extension": ".py",
   "mimetype": "text/x-python",
   "name": "python",
   "nbconvert_exporter": "python",
   "pygments_lexer": "ipython3",
   "version": "3.9.8"
  }
 },
 "nbformat": 4,
 "nbformat_minor": 1
}
